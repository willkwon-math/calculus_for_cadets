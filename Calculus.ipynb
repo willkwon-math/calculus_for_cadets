{
 "cells": [
  {
   "cell_type": "markdown",
   "metadata": {},
   "source": [
    "# 파이썬으로 미적분학 공부하기\n",
    "\n",
    "본 주피터 노트북 파일은 21년도 공군사관학교 생도들의 미적분학 수업의 이해를 돕기 위해 만들어졌습니다.\n",
    "이 주피터 노트북을 사용하면 본인이 문제를 제대로 해결했는 지를 스스로 확인할 수 있습니다."
   ]
  },
  {
   "cell_type": "markdown",
   "metadata": {},
   "source": [
    "## 1. 수학연산 라이브러리 부르기\n",
    "\n",
    "Python에서 수학 연산과 연관이 있는 라이브러리는 여러가지 종류가 있다. 우선 기본적인 수학 라이브러리들을 간략히 소개하며, 앞으로는 이 노트에서 주로 사용할 Sympy 라이브러리를 소개하는 걸 목표로 한다.\n",
    "\n",
    "간단한 연산의 경우, 예를 들어 덧셈과 같은 연산은"
   ]
  },
  {
   "cell_type": "code",
   "execution_count": 1,
   "metadata": {},
   "outputs": [
    {
     "data": {
      "text/plain": [
       "5"
      ]
     },
     "execution_count": 1,
     "metadata": {},
     "output_type": "execute_result"
    }
   ],
   "source": [
    "2+3"
   ]
  },
  {
   "cell_type": "markdown",
   "metadata": {},
   "source": [
    "와 같이 작성하면 값을 계산할 수 있다. 곱하기를 하려면"
   ]
  },
  {
   "cell_type": "code",
   "execution_count": 2,
   "metadata": {},
   "outputs": [
    {
     "data": {
      "text/plain": [
       "6"
      ]
     },
     "execution_count": 2,
     "metadata": {},
     "output_type": "execute_result"
    }
   ],
   "source": [
    "2*3"
   ]
  },
  {
   "cell_type": "markdown",
   "metadata": {},
   "source": [
    "와 같이 작성한다. 또 나눗셈과 관련된 계산으로는 /와 // 이 있다. 다음의 예를 살펴보자."
   ]
  },
  {
   "cell_type": "code",
   "execution_count": 3,
   "metadata": {},
   "outputs": [
    {
     "data": {
      "text/plain": [
       "2.5"
      ]
     },
     "execution_count": 3,
     "metadata": {},
     "output_type": "execute_result"
    }
   ],
   "source": [
    "5 / 2"
   ]
  },
  {
   "cell_type": "code",
   "execution_count": 4,
   "metadata": {},
   "outputs": [
    {
     "data": {
      "text/plain": [
       "2"
      ]
     },
     "execution_count": 4,
     "metadata": {},
     "output_type": "execute_result"
    }
   ],
   "source": [
    "5 // 2"
   ]
  },
  {
   "cell_type": "markdown",
   "metadata": {},
   "source": [
    "전자는 소수까지 허용하여 나눗셈을 한 계산이고, 후자는 5를 2로 나누었을 때 몫을 얻는 것을 확인할 수 있다.\n",
    "\n",
    "$2^3$을 계산하기 위해서는"
   ]
  },
  {
   "cell_type": "code",
   "execution_count": 5,
   "metadata": {},
   "outputs": [
    {
     "data": {
      "text/plain": [
       "8"
      ]
     },
     "execution_count": 5,
     "metadata": {},
     "output_type": "execute_result"
    }
   ],
   "source": [
    "2 ** 3"
   ]
  },
  {
   "cell_type": "markdown",
   "metadata": {},
   "source": [
    "과 같이 작성하면 된다. 그러나 파이썬에 기본적으로 내장된 기능으로는 복잡한 계산을 해낼 수가 없다. 이를 위해서 몇 가지 부가적인 수학 라이브러리가 필요하다. "
   ]
  },
  {
   "cell_type": "markdown",
   "metadata": {},
   "source": [
    "### 1.1. Math 라이브러리\n",
    "\n",
    "해당 라이브러리에 대한 사용법은 https://docs.python.org/3/library/math.html 에서 확인할 수 있다. 여기서는 기본적인 내용들만 소개하는 걸로 한다.\n",
    "라이브러리를 부르는 방법은"
   ]
  },
  {
   "cell_type": "code",
   "execution_count": 6,
   "metadata": {},
   "outputs": [],
   "source": [
    "import math "
   ]
  },
  {
   "cell_type": "markdown",
   "metadata": {},
   "source": [
    "와 같이 입력한다. math 라이브러리에 내장된 명령어를 사용하려면 math.함수명()와 같이 입력해야 한다. 예를 들어"
   ]
  },
  {
   "cell_type": "code",
   "execution_count": 7,
   "metadata": {},
   "outputs": [
    {
     "data": {
      "text/plain": [
       "1.7320508075688772"
      ]
     },
     "execution_count": 7,
     "metadata": {},
     "output_type": "execute_result"
    }
   ],
   "source": [
    "math.sqrt(3)"
   ]
  },
  {
   "cell_type": "markdown",
   "metadata": {},
   "source": [
    "와 같이 작성하면 $\\sqrt{3}$의 수치계산값이 나온다. 또 다른 예로 두 점 사이의 거리공식도 구할 수 있는데, 예로 점 $(2,2)$와 점 $(3,3)$의 거리를 계산하면\n",
    "$$\\sqrt{(3-2)^2+(3-2)^2} = \\sqrt{2}$$\n",
    "이다. 이를 파이썬의 math 코드로 구하면"
   ]
  },
  {
   "cell_type": "code",
   "execution_count": 8,
   "metadata": {},
   "outputs": [
    {
     "data": {
      "text/plain": [
       "1.4142135623730951"
      ]
     },
     "execution_count": 8,
     "metadata": {},
     "output_type": "execute_result"
    }
   ],
   "source": [
    "math.dist((2,2),(3,3))"
   ]
  },
  {
   "cell_type": "markdown",
   "metadata": {},
   "source": [
    "와 같으며 이는 $\\sqrt{2}$의 근삿값임을 안다. 또한 이 라이브러리로 $\\sin$값과 $\\cos$ 값을 계산할 수 있다. 예로 $\\cos(\\pi/3)$와 같은 값을 계산하려면"
   ]
  },
  {
   "cell_type": "code",
   "execution_count": 9,
   "metadata": {},
   "outputs": [
    {
     "data": {
      "text/plain": [
       "0.5000000000000001"
      ]
     },
     "execution_count": 9,
     "metadata": {},
     "output_type": "execute_result"
    }
   ],
   "source": [
    "math.cos(math.pi/3)"
   ]
  },
  {
   "cell_type": "markdown",
   "metadata": {},
   "source": [
    "와 같이 쓰면 된다. 비슷한 예로 $\\sin(\\pi/3)$을 계산하면"
   ]
  },
  {
   "cell_type": "code",
   "execution_count": 10,
   "metadata": {},
   "outputs": [
    {
     "data": {
      "text/plain": [
       "0.8660254037844386"
      ]
     },
     "execution_count": 10,
     "metadata": {},
     "output_type": "execute_result"
    }
   ],
   "source": [
    "math.sin(math.pi/3)"
   ]
  },
  {
   "cell_type": "markdown",
   "metadata": {},
   "source": [
    "이다. 이는 "
   ]
  },
  {
   "cell_type": "code",
   "execution_count": 11,
   "metadata": {},
   "outputs": [
    {
     "data": {
      "text/plain": [
       "0.8660254037844386"
      ]
     },
     "execution_count": 11,
     "metadata": {},
     "output_type": "execute_result"
    }
   ],
   "source": [
    "math.sqrt(3)/2"
   ]
  },
  {
   "cell_type": "markdown",
   "metadata": {},
   "source": [
    "로부터 $\\sin(\\frac{\\pi}{3})=\\frac{\\sqrt{3}}{2}$임을 확인할 수 있다. \n",
    "\n",
    "이 라이브러리로는 파이썬의 기본 계산에 덧붙여 다양한 함수를 도입할 수 있다는 장점도 있으나, 이는 복잡한 계산을 하기에는 턱없이 부족하다. 이를 위해 개발된 패키지중 하나가 numpy이다."
   ]
  },
  {
   "cell_type": "markdown",
   "metadata": {},
   "source": [
    "### 1.2.  NumPy\n",
    "\n",
    "NumPy는 Numerical Python의 약자로 행렬 계산에 최적화된 파이썬 패키지다. 이에 대해서는 추후에 선형대수학을 배울 때 더 자세히 다룰 것이므로 이 노트에서는 다루지 않는다. "
   ]
  },
  {
   "cell_type": "code",
   "execution_count": 12,
   "metadata": {},
   "outputs": [
    {
     "data": {
      "text/plain": [
       "array([1, 2])"
      ]
     },
     "execution_count": 12,
     "metadata": {},
     "output_type": "execute_result"
    }
   ],
   "source": [
    "import numpy as np\n",
    "\n",
    "np.array([1,2])"
   ]
  },
  {
   "cell_type": "markdown",
   "metadata": {},
   "source": [
    "### 1.3. SymPy\n",
    "\n",
    "이번 소절에서는 이 노트에서 주로 사용할 SymPy 패키지를 간략히 소개한다. SymPy는 계산결과를 수치적인 값보다는 기호로 볼 수 있도록 도와주는 패키지다. 예를 들어 앞서 math 패키지를 사용하여 math.sqrt(3)이라 입력하면 $\\sqrt{3}$의 근삿값이 출력되지만, SymPy를 이용하면 기호로 출력이 된다. 앞에서 했던 것처럼 \n",
    "\n",
    "\n",
    "```python\n",
    "import sympy as sp \n",
    "```\n",
    "\n",
    "와 같이 명령어를 작성해도 되지만, 앞으로는 sympy 패키지를 이용해서만 수학코드를 작성하고자 하므로 \n",
    "\n",
    "```python\n",
    "from sympy import *\n",
    "```\n",
    "와 같이 작성하자. 위의 줄을 입력하지 않고 sqrt(3)을 입력하면 에러메시지가 뜨지만, 그 후부터느 sqrt(3)을 입력하면 $\\sqrt{3}$이 출력된다. * 는 명령어를 생략한다는 의미다."
   ]
  },
  {
   "cell_type": "code",
   "execution_count": 13,
   "metadata": {},
   "outputs": [
    {
     "data": {
      "text/latex": [
       "$\\displaystyle \\sqrt{3}$"
      ],
      "text/plain": [
       "sqrt(3)"
      ]
     },
     "execution_count": 13,
     "metadata": {},
     "output_type": "execute_result"
    }
   ],
   "source": [
    "from sympy import *\n",
    "\n",
    "sqrt(3)"
   ]
  },
  {
   "cell_type": "markdown",
   "metadata": {},
   "source": [
    "## 2. 기본적인 SymPy 용례들\n",
    "\n",
    "이 절은 SymPy에서 지원하는 기본 연산들에 대해 살펴본다."
   ]
  },
  {
   "cell_type": "code",
   "execution_count": 14,
   "metadata": {},
   "outputs": [],
   "source": [
    "x, y, z = symbols(\"x, y, z\")"
   ]
  },
  {
   "cell_type": "markdown",
   "metadata": {},
   "source": [
    "이 명령어는 x, y, z라는 파이썬 명령어를 sympy에서 사용하는 수식의 변수로 취급하겠다는 뜻이다. 이를 확인하기 위해 \n",
    "```python\n",
    "x\n",
    "```\n",
    "이라 작성하고 출력하면 $x$라고 나옴을 확인할 수 있다."
   ]
  },
  {
   "cell_type": "code",
   "execution_count": 15,
   "metadata": {},
   "outputs": [
    {
     "data": {
      "text/latex": [
       "$\\displaystyle x$"
      ],
      "text/plain": [
       "x"
      ]
     },
     "execution_count": 15,
     "metadata": {},
     "output_type": "execute_result"
    }
   ],
   "source": [
    "x"
   ]
  },
  {
   "cell_type": "markdown",
   "metadata": {},
   "source": [
    "## 2.1. 변수치환\n",
    "\n",
    "함수를 $f(x)=x^2+1$와 같이 정의했을 때, $x$라는 변수대신 $y$라는 변수를 쓰고자 한다면 \n",
    "```python\n",
    "subs\n",
    "```\n",
    "함수를 사용해야 한다. 예로 \n",
    "```python\n",
    "expr = cos(x)+1\n",
    "```\n",
    "라 입력하고 expr 를 입력하면 \n",
    "$ cos(x)+1$\n",
    "와 같이 출력된다.  여기에\n",
    "```python\n",
    "expr.subs(x,y)\n",
    "```\n",
    "라 하면 expr 함수의 $x$ 변수를 $y$ 변수로 치환한다는 것을 의미한다. "
   ]
  },
  {
   "cell_type": "code",
   "execution_count": 16,
   "metadata": {},
   "outputs": [
    {
     "data": {
      "text/latex": [
       "$\\displaystyle \\cos{\\left(y \\right)} + 1$"
      ],
      "text/plain": [
       "cos(y) + 1"
      ]
     },
     "execution_count": 16,
     "metadata": {},
     "output_type": "execute_result"
    }
   ],
   "source": [
    "expr = cos(x)+1\n",
    "expr.subs(x,y)"
   ]
  },
  {
   "cell_type": "markdown",
   "metadata": {},
   "source": [
    "이는 특히 함수의 특정 값 $x$에서 값을 구할 때 사용된다. 예로 \n",
    "```python\n",
    "expr.subs(x,0)\n",
    "```\n",
    "라 입력하면 expr함수에 $x=0$을 대입한 것으로 2가 나와야 한다. 코드를 통해 확인해보면"
   ]
  },
  {
   "cell_type": "code",
   "execution_count": 17,
   "metadata": {},
   "outputs": [
    {
     "data": {
      "text/latex": [
       "$\\displaystyle 2$"
      ],
      "text/plain": [
       "2"
      ]
     },
     "execution_count": 17,
     "metadata": {},
     "output_type": "execute_result"
    }
   ],
   "source": [
    "expr.subs(x,0)"
   ]
  },
  {
   "cell_type": "markdown",
   "metadata": {},
   "source": [
    "임을 확인할 수 있다. "
   ]
  },
  {
   "cell_type": "markdown",
   "metadata": {},
   "source": [
    "## 2.2. 수치계산\n",
    "\n",
    "앞에서 sqrt(3)이라 입력하면 $\\sqrt{3}$이 나온다는 것을 확인했다. 그러면 이 값의 근삿값은 어떻게 구할까? \n",
    "\n",
    "sympy 패키지를 불렀다면 이는 sqrt(3).evalf()를 사용하면 된다. "
   ]
  },
  {
   "cell_type": "code",
   "execution_count": 18,
   "metadata": {},
   "outputs": [
    {
     "data": {
      "text/latex": [
       "$\\displaystyle 1.73205080756888$"
      ],
      "text/plain": [
       "1.73205080756888"
      ]
     },
     "execution_count": 18,
     "metadata": {},
     "output_type": "execute_result"
    }
   ],
   "source": [
    "sqrt(3).evalf()"
   ]
  },
  {
   "cell_type": "markdown",
   "metadata": {},
   "source": [
    "여기서 소수점 아래 20자리까지 출력하고 싶다면 evalf의 소괄호에 숫자를 입력하면 된다."
   ]
  },
  {
   "cell_type": "code",
   "execution_count": 19,
   "metadata": {},
   "outputs": [
    {
     "data": {
      "text/latex": [
       "$\\displaystyle 1.7320508075688772935$"
      ],
      "text/plain": [
       "1.7320508075688772935"
      ]
     },
     "execution_count": 19,
     "metadata": {},
     "output_type": "execute_result"
    }
   ],
   "source": [
    "sqrt(3).evalf(20)"
   ]
  },
  {
   "cell_type": "markdown",
   "metadata": {},
   "source": [
    "코드의 한 응용으로 주어진 함수를 수치적으로 계산하고 싶으면 아래와 같이 명령어를 입력하면 된다. "
   ]
  },
  {
   "cell_type": "code",
   "execution_count": 20,
   "metadata": {},
   "outputs": [
    {
     "data": {
      "text/latex": [
       "$\\displaystyle 0.0874989834394464$"
      ],
      "text/plain": [
       "0.0874989834394464"
      ]
     },
     "execution_count": 20,
     "metadata": {},
     "output_type": "execute_result"
    }
   ],
   "source": [
    "expr = cos(2*x)\n",
    "expr.evalf(subs={x: 2.4})"
   ]
  },
  {
   "cell_type": "markdown",
   "metadata": {},
   "source": [
    "## 3. 함수의 극한\n",
    "\n",
    "```python\n",
    " limit(f(x),x,x_0)\n",
    "```\n",
    "여기서 이 명령어는 함수 $f(x)$의 $x=x_0$에서의 극한을 계산하는 것을 의미한다. "
   ]
  },
  {
   "cell_type": "markdown",
   "metadata": {},
   "source": [
    "> 예시: 극한 $\\lim_{t\\rightarrow 0+} \\frac{\\sqrt{t^2+9}-3}{t}$을 계산하라.\n",
    "\n",
    "풀이: "
   ]
  },
  {
   "cell_type": "code",
   "execution_count": 21,
   "metadata": {},
   "outputs": [
    {
     "data": {
      "text/latex": [
       "$\\displaystyle \\frac{1}{6}$"
      ],
      "text/plain": [
       "1/6"
      ]
     },
     "execution_count": 21,
     "metadata": {},
     "output_type": "execute_result"
    }
   ],
   "source": [
    "t = symbols(\"t\")\n",
    "func = (sqrt(t**2+9)-3) /t**2 \n",
    "limit(func,t,0)"
   ]
  },
  {
   "cell_type": "markdown",
   "metadata": {},
   "source": [
    "> 예시: 극한 $\\lim_{h\\rightarrow 0} \\frac{(3+h)^2-9}{h}$를 계산하라."
   ]
  },
  {
   "cell_type": "code",
   "execution_count": 22,
   "metadata": {},
   "outputs": [
    {
     "data": {
      "text/latex": [
       "$\\displaystyle 6$"
      ],
      "text/plain": [
       "6"
      ]
     },
     "execution_count": 22,
     "metadata": {},
     "output_type": "execute_result"
    }
   ],
   "source": [
    "h = symbols(\"h\")\n",
    "func = ((3+h)**2-9)/h\n",
    "limit(func,h,0)"
   ]
  }
 ],
 "metadata": {
  "kernelspec": {
   "display_name": "Python 3",
   "language": "python",
   "name": "python3"
  },
  "language_info": {
   "codemirror_mode": {
    "name": "ipython",
    "version": 3
   },
   "file_extension": ".py",
   "mimetype": "text/x-python",
   "name": "python",
   "nbconvert_exporter": "python",
   "pygments_lexer": "ipython3",
   "version": "3.8.3"
  }
 },
 "nbformat": 4,
 "nbformat_minor": 4
}
